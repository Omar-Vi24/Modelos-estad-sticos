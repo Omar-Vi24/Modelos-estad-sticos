{
  "nbformat": 4,
  "nbformat_minor": 0,
  "metadata": {
    "colab": {
      "provenance": [],
      "authorship_tag": "ABX9TyNv5hOZLzGnU4uCuOk/hSRJ",
      "include_colab_link": true
    },
    "kernelspec": {
      "name": "python3",
      "display_name": "Python 3"
    },
    "language_info": {
      "name": "python"
    }
  },
  "cells": [
    {
      "cell_type": "markdown",
      "metadata": {
        "id": "view-in-github",
        "colab_type": "text"
      },
      "source": [
        "<a href=\"https://colab.research.google.com/github/Omar-Vi24/Modelos-estad-sticos/blob/main/Uniforme_discreta_Lanzamiento_de_dados.ipynb\" target=\"_parent\"><img src=\"https://colab.research.google.com/assets/colab-badge.svg\" alt=\"Open In Colab\"/></a>"
      ]
    },
    {
      "cell_type": "markdown",
      "source": [
        "##Lanzamiento de dos dados"
      ],
      "metadata": {
        "id": "qerSi9c58sU3"
      }
    },
    {
      "cell_type": "markdown",
      "source": [
        "## Diccionario\n",
        "\n",
        "$$\\{\\text{key}:\\text{values}\\}.$$"
      ],
      "metadata": {
        "id": "NznvbDzN8xvw"
      }
    },
    {
      "cell_type": "code",
      "execution_count": 3,
      "metadata": {
        "id": "TLyKysx08dsX"
      },
      "outputs": [],
      "source": [
        "d= {\"Omar\": [\"Max\", \"Jake\", \"Charly\"],\n",
        "    \"Alan\": [3, 10, 12],\n",
        "    \"Gal\": [7-0, 5.0, 6.0]}"
      ]
    },
    {
      "cell_type": "code",
      "source": [
        "type(d)"
      ],
      "metadata": {
        "colab": {
          "base_uri": "https://localhost:8080/"
        },
        "id": "kpXouM7c-dgZ",
        "outputId": "345d2852-eb68-4582-9dfc-cb8250f39dd4"
      },
      "execution_count": 4,
      "outputs": [
        {
          "output_type": "execute_result",
          "data": {
            "text/plain": [
              "dict"
            ]
          },
          "metadata": {},
          "execution_count": 4
        }
      ]
    },
    {
      "cell_type": "code",
      "source": [
        "d.keys()"
      ],
      "metadata": {
        "colab": {
          "base_uri": "https://localhost:8080/"
        },
        "id": "JtW9eHct_81V",
        "outputId": "34a6faf6-ae3b-46fd-e16d-2054cdad3932"
      },
      "execution_count": 5,
      "outputs": [
        {
          "output_type": "execute_result",
          "data": {
            "text/plain": [
              "dict_keys(['Omar', 'Alan', 'Gal'])"
            ]
          },
          "metadata": {},
          "execution_count": 5
        }
      ]
    },
    {
      "cell_type": "code",
      "source": [
        "d.values()"
      ],
      "metadata": {
        "colab": {
          "base_uri": "https://localhost:8080/"
        },
        "id": "Bwpa2LewAG-p",
        "outputId": "84e1e8a7-688c-4804-9d4f-c278176120f8"
      },
      "execution_count": 6,
      "outputs": [
        {
          "output_type": "execute_result",
          "data": {
            "text/plain": [
              "dict_values([['Max', 'Jake', 'Charly'], [3, 10, 12], [7, 5.0, 6.0]])"
            ]
          },
          "metadata": {},
          "execution_count": 6
        }
      ]
    },
    {
      "cell_type": "code",
      "source": [
        "d.items()"
      ],
      "metadata": {
        "colab": {
          "base_uri": "https://localhost:8080/"
        },
        "id": "YbY6ybKWAW4i",
        "outputId": "5114910c-bbe4-45b7-e44e-2dee77c2f12d"
      },
      "execution_count": 7,
      "outputs": [
        {
          "output_type": "execute_result",
          "data": {
            "text/plain": [
              "dict_items([('Omar', ['Max', 'Jake', 'Charly']), ('Alan', [3, 10, 12]), ('Gal', [7, 5.0, 6.0])])"
            ]
          },
          "metadata": {},
          "execution_count": 7
        }
      ]
    },
    {
      "cell_type": "markdown",
      "source": [
        "## Se lanzan dos dados justos:\n",
        "\n",
        "- $\\Omega = \\{1,2,3,4,5,6\\}\\times \\{1,2,3,4,5,6 \\}$\n",
        "- $\\mathcal{F}=p(\\Omega)$.\n",
        "-Para $\\omega=(i,j)$ donde $i, j=1, \\dots, 6$\n",
        "$$\\mathbb{P}(\\{\\omega\\})=\\frac{1}{36}.$$\n",
        "\n",
        "-----\n",
        "\n",
        "## Vamos a definir a la siguiente variable aleatoria:\n",
        "$S$ es la variable aleatoria que cuenta la suma de las caras de los dados.\n",
        "\n",
        "$$S:\\Omega \\to R_{S}=\\{2, 3, 4, 5, 6, 7, 8, 9, 10, 11, 12\\}$$\n"
      ],
      "metadata": {
        "id": "RPeNTlCqAeVS"
      }
    },
    {
      "cell_type": "markdown",
      "source": [
        "Para entender a la ley de la variable aleatoria, basta con entender a los siguientes datos:\n",
        "$$\\{(k, \\mathbb{P}(S=k)) \\}_{k_in R_{S}}.$$"
      ],
      "metadata": {
        "id": "fuNqfrbACtAb"
      }
    },
    {
      "cell_type": "code",
      "source": [
        "from itertools import product\n",
        "from fractions import Fraction"
      ],
      "metadata": {
        "id": "ZAhErgVXC-0Q"
      },
      "execution_count": 8,
      "outputs": []
    },
    {
      "cell_type": "code",
      "source": [
        "def P(A, Omega):\n",
        "  P = Fraction(len(A), len(Omega) )\n",
        "  return P"
      ],
      "metadata": {
        "id": "S0_SyOquEhzr"
      },
      "execution_count": 9,
      "outputs": []
    },
    {
      "cell_type": "markdown",
      "source": [
        "$$S_{n}=\\{(i,j)\\in \\Omega : i+j =n \\}=$$\n"
      ],
      "metadata": {
        "id": "ncLqACEJErKD"
      }
    },
    {
      "cell_type": "code",
      "source": [
        "S_2 = {(i, j) for i in range(1,7) for j in range(1,7) if i+j == 2}\n",
        "S_2"
      ],
      "metadata": {
        "colab": {
          "base_uri": "https://localhost:8080/"
        },
        "id": "VohkkM9iE7BI",
        "outputId": "7bc997aa-c238-4946-a15b-19aa51def77a"
      },
      "execution_count": 10,
      "outputs": [
        {
          "output_type": "execute_result",
          "data": {
            "text/plain": [
              "{(1, 1)}"
            ]
          },
          "metadata": {},
          "execution_count": 10
        }
      ]
    },
    {
      "cell_type": "code",
      "source": [
        "L = [i for i in range(1,7)]\n",
        "\n",
        "print (L)\n",
        "\n",
        "Omega = set(product(L, repeat =2))\n",
        "Omega"
      ],
      "metadata": {
        "colab": {
          "base_uri": "https://localhost:8080/"
        },
        "id": "JWMoWo42FxVx",
        "outputId": "5b40fcad-fc3f-425b-e3c2-125c5b395030"
      },
      "execution_count": 11,
      "outputs": [
        {
          "output_type": "stream",
          "name": "stdout",
          "text": [
            "[1, 2, 3, 4, 5, 6]\n"
          ]
        },
        {
          "output_type": "execute_result",
          "data": {
            "text/plain": [
              "{(1, 1),\n",
              " (1, 2),\n",
              " (1, 3),\n",
              " (1, 4),\n",
              " (1, 5),\n",
              " (1, 6),\n",
              " (2, 1),\n",
              " (2, 2),\n",
              " (2, 3),\n",
              " (2, 4),\n",
              " (2, 5),\n",
              " (2, 6),\n",
              " (3, 1),\n",
              " (3, 2),\n",
              " (3, 3),\n",
              " (3, 4),\n",
              " (3, 5),\n",
              " (3, 6),\n",
              " (4, 1),\n",
              " (4, 2),\n",
              " (4, 3),\n",
              " (4, 4),\n",
              " (4, 5),\n",
              " (4, 6),\n",
              " (5, 1),\n",
              " (5, 2),\n",
              " (5, 3),\n",
              " (5, 4),\n",
              " (5, 5),\n",
              " (5, 6),\n",
              " (6, 1),\n",
              " (6, 2),\n",
              " (6, 3),\n",
              " (6, 4),\n",
              " (6, 5),\n",
              " (6, 6)}"
            ]
          },
          "metadata": {},
          "execution_count": 11
        }
      ]
    },
    {
      "cell_type": "code",
      "source": [
        "S = {(i,j): i+j for i,j in Omega}\n",
        "\n",
        "S"
      ],
      "metadata": {
        "colab": {
          "base_uri": "https://localhost:8080/"
        },
        "id": "qVDhnwvgFoZ4",
        "outputId": "9431b2e4-0a14-4bae-9ebd-93d847b82ed6"
      },
      "execution_count": 12,
      "outputs": [
        {
          "output_type": "execute_result",
          "data": {
            "text/plain": [
              "{(3, 4): 7,\n",
              " (4, 3): 7,\n",
              " (3, 1): 4,\n",
              " (5, 4): 9,\n",
              " (4, 6): 10,\n",
              " (5, 1): 6,\n",
              " (2, 2): 4,\n",
              " (1, 6): 7,\n",
              " (2, 5): 7,\n",
              " (1, 3): 4,\n",
              " (6, 2): 8,\n",
              " (6, 5): 11,\n",
              " (4, 2): 6,\n",
              " (4, 5): 9,\n",
              " (3, 3): 6,\n",
              " (5, 6): 11,\n",
              " (3, 6): 9,\n",
              " (5, 3): 8,\n",
              " (2, 4): 6,\n",
              " (1, 2): 3,\n",
              " (2, 1): 3,\n",
              " (1, 5): 6,\n",
              " (6, 1): 7,\n",
              " (6, 4): 10,\n",
              " (3, 2): 5,\n",
              " (4, 1): 5,\n",
              " (3, 5): 8,\n",
              " (5, 2): 7,\n",
              " (4, 4): 8,\n",
              " (5, 5): 10,\n",
              " (1, 1): 2,\n",
              " (1, 4): 5,\n",
              " (2, 3): 5,\n",
              " (2, 6): 8,\n",
              " (6, 6): 12,\n",
              " (6, 3): 9}"
            ]
          },
          "metadata": {},
          "execution_count": 12
        }
      ]
    },
    {
      "cell_type": "code",
      "source": [
        "from collections import defaultdict\n",
        "\n",
        "dS = defaultdict(set)\n",
        "dS"
      ],
      "metadata": {
        "colab": {
          "base_uri": "https://localhost:8080/"
        },
        "id": "ncoS1MFkFo35",
        "outputId": "cc54b306-a989-4d9c-dfe4-a3279192854a"
      },
      "execution_count": 13,
      "outputs": [
        {
          "output_type": "execute_result",
          "data": {
            "text/plain": [
              "defaultdict(set, {})"
            ]
          },
          "metadata": {},
          "execution_count": 13
        }
      ]
    },
    {
      "cell_type": "code",
      "source": [
        "for l, v in S.items():\n",
        "  dS[v].add(l)"
      ],
      "metadata": {
        "id": "AzslF49XHl7u"
      },
      "execution_count": 14,
      "outputs": []
    },
    {
      "cell_type": "code",
      "source": [
        "dS"
      ],
      "metadata": {
        "colab": {
          "base_uri": "https://localhost:8080/"
        },
        "id": "N9bSAEIkJAyM",
        "outputId": "7fdf4ddb-07c3-4bdf-cf63-f5468a392892"
      },
      "execution_count": 15,
      "outputs": [
        {
          "output_type": "execute_result",
          "data": {
            "text/plain": [
              "defaultdict(set,\n",
              "            {7: {(1, 6), (2, 5), (3, 4), (4, 3), (5, 2), (6, 1)},\n",
              "             4: {(1, 3), (2, 2), (3, 1)},\n",
              "             9: {(3, 6), (4, 5), (5, 4), (6, 3)},\n",
              "             10: {(4, 6), (5, 5), (6, 4)},\n",
              "             6: {(1, 5), (2, 4), (3, 3), (4, 2), (5, 1)},\n",
              "             8: {(2, 6), (3, 5), (4, 4), (5, 3), (6, 2)},\n",
              "             11: {(5, 6), (6, 5)},\n",
              "             3: {(1, 2), (2, 1)},\n",
              "             5: {(1, 4), (2, 3), (3, 2), (4, 1)},\n",
              "             2: {(1, 1)},\n",
              "             12: {(6, 6)}})"
            ]
          },
          "metadata": {},
          "execution_count": 15
        }
      ]
    },
    {
      "cell_type": "code",
      "source": [
        "leyS = {k : P(A,Omega) for k , A in dS.items() }\n",
        "leyS"
      ],
      "metadata": {
        "id": "jqKYYlAlJKHS",
        "colab": {
          "base_uri": "https://localhost:8080/"
        },
        "outputId": "062ce32d-5335-43c3-95fb-5c22bb3b3bbc"
      },
      "execution_count": 16,
      "outputs": [
        {
          "output_type": "execute_result",
          "data": {
            "text/plain": [
              "{7: Fraction(1, 6),\n",
              " 4: Fraction(1, 12),\n",
              " 9: Fraction(1, 9),\n",
              " 10: Fraction(1, 12),\n",
              " 6: Fraction(5, 36),\n",
              " 8: Fraction(5, 36),\n",
              " 11: Fraction(1, 18),\n",
              " 3: Fraction(1, 18),\n",
              " 5: Fraction(1, 9),\n",
              " 2: Fraction(1, 36),\n",
              " 12: Fraction(1, 36)}"
            ]
          },
          "metadata": {},
          "execution_count": 16
        }
      ]
    },
    {
      "cell_type": "markdown",
      "source": [
        "##Introducción a pandas."
      ],
      "metadata": {
        "id": "91zE6SZ1DA_L"
      }
    },
    {
      "cell_type": "code",
      "source": [
        "import pandas as pd"
      ],
      "metadata": {
        "id": "NLTndSWOKRmR"
      },
      "execution_count": 17,
      "outputs": []
    },
    {
      "cell_type": "code",
      "source": [
        "leyS = pd.Series(leyS)\n",
        "leyS = leyS.sort_index()"
      ],
      "metadata": {
        "id": "Y0vvXS_kKlrD"
      },
      "execution_count": 18,
      "outputs": []
    },
    {
      "cell_type": "code",
      "source": [
        "leyS"
      ],
      "metadata": {
        "id": "akEOTv0CLFKn",
        "colab": {
          "base_uri": "https://localhost:8080/"
        },
        "outputId": "103f9a7e-17e9-4314-e37c-33fcb5d608c0"
      },
      "execution_count": 19,
      "outputs": [
        {
          "output_type": "execute_result",
          "data": {
            "text/plain": [
              "2     1/36\n",
              "3     1/18\n",
              "4     1/12\n",
              "5      1/9\n",
              "6     5/36\n",
              "7      1/6\n",
              "8     5/36\n",
              "9      1/9\n",
              "10    1/12\n",
              "11    1/18\n",
              "12    1/36\n",
              "dtype: object"
            ]
          },
          "metadata": {},
          "execution_count": 19
        }
      ]
    },
    {
      "cell_type": "markdown",
      "source": [
        "### Ejercicios:\n",
        "1.- Documenta tu colab.\n",
        "\n",
        "2.- Calcula la ley de las siguientes variables aleatorias:\n",
        "\n",
        "1.          - La diferencia de las caras sea mayor que $1$.\n",
        "\n",
        "    - La suma de las caras sea par.\n",
        "\n",
        "3.- Verifica, en cada caso, que $$\\sum_{k\\in R_{X}}\\mathbb{P}(X=x)=1.$$\n",
        "\n",
        "4.- Sube tu notebook a tu GitHub."
      ],
      "metadata": {
        "id": "1XabN0eNDS2N"
      }
    },
    {
      "cell_type": "markdown",
      "source": [
        "##Tarea"
      ],
      "metadata": {
        "id": "3ilLMgV9DdsP"
      }
    },
    {
      "cell_type": "markdown",
      "source": [
        "##Omar Alejandro Villanueva Ortega"
      ],
      "metadata": {
        "id": "iN0kawC0Df68"
      }
    },
    {
      "cell_type": "markdown",
      "source": [
        "1.\n",
        "Nombremos a $Q$ la variable aleatoria de la diferencia de las caras de los dados.\n",
        "\n",
        "$$Q:\\Omega \\to R_{Q}=\\{-5, -4, -3, -2, -1, 0, 1,2, 3,4,5 \\}$$"
      ],
      "metadata": {
        "id": "Z9zRM7nDDmOz"
      }
    },
    {
      "cell_type": "code",
      "source": [
        "Q = {(i,j): (i-j) for i,j in Omega }\n",
        "\n",
        "Q"
      ],
      "metadata": {
        "colab": {
          "base_uri": "https://localhost:8080/"
        },
        "id": "dV2JIFPMD307",
        "outputId": "46099ac5-a663-429f-ccd7-9a9d91b893fa"
      },
      "execution_count": 20,
      "outputs": [
        {
          "output_type": "execute_result",
          "data": {
            "text/plain": [
              "{(3, 4): -1,\n",
              " (4, 3): 1,\n",
              " (3, 1): 2,\n",
              " (5, 4): 1,\n",
              " (4, 6): -2,\n",
              " (5, 1): 4,\n",
              " (2, 2): 0,\n",
              " (1, 6): -5,\n",
              " (2, 5): -3,\n",
              " (1, 3): -2,\n",
              " (6, 2): 4,\n",
              " (6, 5): 1,\n",
              " (4, 2): 2,\n",
              " (4, 5): -1,\n",
              " (3, 3): 0,\n",
              " (5, 6): -1,\n",
              " (3, 6): -3,\n",
              " (5, 3): 2,\n",
              " (2, 4): -2,\n",
              " (1, 2): -1,\n",
              " (2, 1): 1,\n",
              " (1, 5): -4,\n",
              " (6, 1): 5,\n",
              " (6, 4): 2,\n",
              " (3, 2): 1,\n",
              " (4, 1): 3,\n",
              " (3, 5): -2,\n",
              " (5, 2): 3,\n",
              " (4, 4): 0,\n",
              " (5, 5): 0,\n",
              " (1, 1): 0,\n",
              " (1, 4): -3,\n",
              " (2, 3): -1,\n",
              " (2, 6): -4,\n",
              " (6, 6): 0,\n",
              " (6, 3): 3}"
            ]
          },
          "metadata": {},
          "execution_count": 20
        }
      ]
    },
    {
      "cell_type": "code",
      "source": [
        "dQ = defaultdict(set)\n",
        "dQ"
      ],
      "metadata": {
        "colab": {
          "base_uri": "https://localhost:8080/"
        },
        "id": "rLcF8tXvGAKR",
        "outputId": "086b5e19-e766-404d-8d9c-ca700d09aab5"
      },
      "execution_count": 21,
      "outputs": [
        {
          "output_type": "execute_result",
          "data": {
            "text/plain": [
              "defaultdict(set, {})"
            ]
          },
          "metadata": {},
          "execution_count": 21
        }
      ]
    },
    {
      "cell_type": "code",
      "source": [
        "for l, v in Q.items():\n",
        "  dQ[v].add(l)"
      ],
      "metadata": {
        "id": "ZEaRqKKXGBto"
      },
      "execution_count": 22,
      "outputs": []
    },
    {
      "cell_type": "code",
      "source": [
        "dQ"
      ],
      "metadata": {
        "colab": {
          "base_uri": "https://localhost:8080/"
        },
        "id": "FUIf9jJjGEEw",
        "outputId": "736ce1bd-c5c0-4635-8ac0-7197b6bd9b66"
      },
      "execution_count": 23,
      "outputs": [
        {
          "output_type": "execute_result",
          "data": {
            "text/plain": [
              "defaultdict(set,\n",
              "            {-1: {(1, 2), (2, 3), (3, 4), (4, 5), (5, 6)},\n",
              "             1: {(2, 1), (3, 2), (4, 3), (5, 4), (6, 5)},\n",
              "             2: {(3, 1), (4, 2), (5, 3), (6, 4)},\n",
              "             -2: {(1, 3), (2, 4), (3, 5), (4, 6)},\n",
              "             4: {(5, 1), (6, 2)},\n",
              "             0: {(1, 1), (2, 2), (3, 3), (4, 4), (5, 5), (6, 6)},\n",
              "             -5: {(1, 6)},\n",
              "             -3: {(1, 4), (2, 5), (3, 6)},\n",
              "             -4: {(1, 5), (2, 6)},\n",
              "             5: {(6, 1)},\n",
              "             3: {(4, 1), (5, 2), (6, 3)}})"
            ]
          },
          "metadata": {},
          "execution_count": 23
        }
      ]
    },
    {
      "cell_type": "code",
      "source": [
        "leyQ = {k : P(A,Omega) for k , A in dQ.items() }\n",
        "leyQ"
      ],
      "metadata": {
        "colab": {
          "base_uri": "https://localhost:8080/"
        },
        "id": "inF88cLSGLWM",
        "outputId": "3b09f380-138e-4de6-c456-e25e349dfbba"
      },
      "execution_count": 24,
      "outputs": [
        {
          "output_type": "execute_result",
          "data": {
            "text/plain": [
              "{-1: Fraction(5, 36),\n",
              " 1: Fraction(5, 36),\n",
              " 2: Fraction(1, 9),\n",
              " -2: Fraction(1, 9),\n",
              " 4: Fraction(1, 18),\n",
              " 0: Fraction(1, 6),\n",
              " -5: Fraction(1, 36),\n",
              " -3: Fraction(1, 12),\n",
              " -4: Fraction(1, 18),\n",
              " 5: Fraction(1, 36),\n",
              " 3: Fraction(1, 12)}"
            ]
          },
          "metadata": {},
          "execution_count": 24
        }
      ]
    },
    {
      "cell_type": "code",
      "source": [
        "leyQ = pd.Series(leyQ)\n",
        "leyQ = leyQ.sort_index()"
      ],
      "metadata": {
        "id": "SgiHq0m4GQsf"
      },
      "execution_count": 25,
      "outputs": []
    },
    {
      "cell_type": "code",
      "source": [
        "leyQ"
      ],
      "metadata": {
        "colab": {
          "base_uri": "https://localhost:8080/"
        },
        "id": "0bDFZaurGQDX",
        "outputId": "9c575919-d4e6-4dfb-fa2a-14391aa3e228"
      },
      "execution_count": 26,
      "outputs": [
        {
          "output_type": "execute_result",
          "data": {
            "text/plain": [
              "-5    1/36\n",
              "-4    1/18\n",
              "-3    1/12\n",
              "-2     1/9\n",
              "-1    5/36\n",
              " 0     1/6\n",
              " 1    5/36\n",
              " 2     1/9\n",
              " 3    1/12\n",
              " 4    1/18\n",
              " 5    1/36\n",
              "dtype: object"
            ]
          },
          "metadata": {},
          "execution_count": 26
        }
      ]
    },
    {
      "cell_type": "markdown",
      "source": [
        "Ahora verificaremos que:\n",
        "$$\\sum_{k\\in R_{Q}}\\mathbb{P}(X=x)=1.$$"
      ],
      "metadata": {
        "id": "xoayUFcvGYyt"
      }
    },
    {
      "cell_type": "code",
      "source": [
        "leyQ.sum()"
      ],
      "metadata": {
        "colab": {
          "base_uri": "https://localhost:8080/"
        },
        "id": "c7pgzWPRGdIX",
        "outputId": "3593a5e2-2412-4297-951e-e2a541227885"
      },
      "execution_count": 27,
      "outputs": [
        {
          "output_type": "execute_result",
          "data": {
            "text/plain": [
              "Fraction(1, 1)"
            ]
          },
          "metadata": {},
          "execution_count": 27
        }
      ]
    },
    {
      "cell_type": "markdown",
      "source": [
        "Ahora obtendremos las diferencias de las caras que sean mayores a 1"
      ],
      "metadata": {
        "id": "f6eQrIuWGj-N"
      }
    },
    {
      "cell_type": "code",
      "source": [
        "Q1 = {(i,j): (i-j) for i,j in Omega if i-j >1 }\n",
        "\n",
        "Q1"
      ],
      "metadata": {
        "colab": {
          "base_uri": "https://localhost:8080/"
        },
        "id": "0rXHMmTIGr0B",
        "outputId": "08137123-75d4-4ea6-f928-197f0e87211f"
      },
      "execution_count": 28,
      "outputs": [
        {
          "output_type": "execute_result",
          "data": {
            "text/plain": [
              "{(3, 1): 2,\n",
              " (5, 1): 4,\n",
              " (6, 2): 4,\n",
              " (4, 2): 2,\n",
              " (5, 3): 2,\n",
              " (6, 1): 5,\n",
              " (6, 4): 2,\n",
              " (4, 1): 3,\n",
              " (5, 2): 3,\n",
              " (6, 3): 3}"
            ]
          },
          "metadata": {},
          "execution_count": 28
        }
      ]
    },
    {
      "cell_type": "code",
      "source": [
        "dQ1 = defaultdict(set)\n",
        "dQ1"
      ],
      "metadata": {
        "colab": {
          "base_uri": "https://localhost:8080/"
        },
        "id": "GzdERQ0VGyax",
        "outputId": "3b45de3e-f70d-401b-c712-e3512608a17a"
      },
      "execution_count": 29,
      "outputs": [
        {
          "output_type": "execute_result",
          "data": {
            "text/plain": [
              "defaultdict(set, {})"
            ]
          },
          "metadata": {},
          "execution_count": 29
        }
      ]
    },
    {
      "cell_type": "code",
      "source": [
        "for l, v in Q1.items():\n",
        "  dQ1[v].add(l)"
      ],
      "metadata": {
        "id": "DwwkssQCG1oN"
      },
      "execution_count": 30,
      "outputs": []
    },
    {
      "cell_type": "code",
      "source": [
        "dQ1"
      ],
      "metadata": {
        "colab": {
          "base_uri": "https://localhost:8080/"
        },
        "id": "NjRRYUWrG3QG",
        "outputId": "b85773f3-45e6-453f-a6b1-9f6e293a0abe"
      },
      "execution_count": 31,
      "outputs": [
        {
          "output_type": "execute_result",
          "data": {
            "text/plain": [
              "defaultdict(set,\n",
              "            {2: {(3, 1), (4, 2), (5, 3), (6, 4)},\n",
              "             4: {(5, 1), (6, 2)},\n",
              "             5: {(6, 1)},\n",
              "             3: {(4, 1), (5, 2), (6, 3)}})"
            ]
          },
          "metadata": {},
          "execution_count": 31
        }
      ]
    },
    {
      "cell_type": "code",
      "source": [
        "leyQ1 = {k : P(A,Omega) for k , A in dQ1.items() }\n",
        "leyQ1"
      ],
      "metadata": {
        "colab": {
          "base_uri": "https://localhost:8080/"
        },
        "id": "0odJSoq1G9MO",
        "outputId": "e7f3a9f3-1702-4a16-9ea2-c46202ca27f9"
      },
      "execution_count": 32,
      "outputs": [
        {
          "output_type": "execute_result",
          "data": {
            "text/plain": [
              "{2: Fraction(1, 9), 4: Fraction(1, 18), 5: Fraction(1, 36), 3: Fraction(1, 12)}"
            ]
          },
          "metadata": {},
          "execution_count": 32
        }
      ]
    },
    {
      "cell_type": "code",
      "source": [
        "leyQ1 = pd.Series(leyQ1)\n",
        "leyQ1 = leyQ1.sort_index()"
      ],
      "metadata": {
        "id": "MXB1yEnyHAeU"
      },
      "execution_count": 33,
      "outputs": []
    },
    {
      "cell_type": "markdown",
      "source": [
        "Por tanto, estás son las éstas son las diferencias que son mayores a 1"
      ],
      "metadata": {
        "id": "0ro-FVaqHDv4"
      }
    },
    {
      "cell_type": "code",
      "source": [
        "leyQ1"
      ],
      "metadata": {
        "colab": {
          "base_uri": "https://localhost:8080/"
        },
        "id": "CmFVnGdvHKRK",
        "outputId": "f9faa0bd-7d8e-458c-83df-33f9361ba593"
      },
      "execution_count": 34,
      "outputs": [
        {
          "output_type": "execute_result",
          "data": {
            "text/plain": [
              "2     1/9\n",
              "3    1/12\n",
              "4    1/18\n",
              "5    1/36\n",
              "dtype: object"
            ]
          },
          "metadata": {},
          "execution_count": 34
        }
      ]
    },
    {
      "cell_type": "markdown",
      "source": [
        "Entonces si queremos obtener la P(Q>1) tenemos que:"
      ],
      "metadata": {
        "id": "r7pAhaDeHStD"
      }
    },
    {
      "cell_type": "code",
      "source": [
        "leyQ1.sum()"
      ],
      "metadata": {
        "colab": {
          "base_uri": "https://localhost:8080/"
        },
        "id": "hUR0ZmkfHRqT",
        "outputId": "5e09de4a-df07-4773-8f6a-cff5f3ada245"
      },
      "execution_count": 35,
      "outputs": [
        {
          "output_type": "execute_result",
          "data": {
            "text/plain": [
              "Fraction(5, 18)"
            ]
          },
          "metadata": {},
          "execution_count": 35
        }
      ]
    },
    {
      "cell_type": "markdown",
      "source": [
        "2. Ahora nombremos a $T$ la variable aleatoria de la suma de las caras de los dados.\n",
        "\n",
        "$$T:\\Omega \\to R_{T}=\\{2,3,4,5,6,7,8,9,10,11,12\\}$$"
      ],
      "metadata": {
        "id": "3zbnS4UnHiA_"
      }
    },
    {
      "cell_type": "code",
      "source": [
        "T = {(i,j): i + j for i,j in Omega }\n",
        "\n",
        "T"
      ],
      "metadata": {
        "colab": {
          "base_uri": "https://localhost:8080/"
        },
        "id": "vYq0bey_Hs_e",
        "outputId": "34dfc93c-b165-4549-a779-cec98be1a325"
      },
      "execution_count": 36,
      "outputs": [
        {
          "output_type": "execute_result",
          "data": {
            "text/plain": [
              "{(3, 4): 7,\n",
              " (4, 3): 7,\n",
              " (3, 1): 4,\n",
              " (5, 4): 9,\n",
              " (4, 6): 10,\n",
              " (5, 1): 6,\n",
              " (2, 2): 4,\n",
              " (1, 6): 7,\n",
              " (2, 5): 7,\n",
              " (1, 3): 4,\n",
              " (6, 2): 8,\n",
              " (6, 5): 11,\n",
              " (4, 2): 6,\n",
              " (4, 5): 9,\n",
              " (3, 3): 6,\n",
              " (5, 6): 11,\n",
              " (3, 6): 9,\n",
              " (5, 3): 8,\n",
              " (2, 4): 6,\n",
              " (1, 2): 3,\n",
              " (2, 1): 3,\n",
              " (1, 5): 6,\n",
              " (6, 1): 7,\n",
              " (6, 4): 10,\n",
              " (3, 2): 5,\n",
              " (4, 1): 5,\n",
              " (3, 5): 8,\n",
              " (5, 2): 7,\n",
              " (4, 4): 8,\n",
              " (5, 5): 10,\n",
              " (1, 1): 2,\n",
              " (1, 4): 5,\n",
              " (2, 3): 5,\n",
              " (2, 6): 8,\n",
              " (6, 6): 12,\n",
              " (6, 3): 9}"
            ]
          },
          "metadata": {},
          "execution_count": 36
        }
      ]
    },
    {
      "cell_type": "code",
      "source": [
        "dT = defaultdict(set)\n",
        "dT"
      ],
      "metadata": {
        "colab": {
          "base_uri": "https://localhost:8080/"
        },
        "id": "-lgkHrZPH0NO",
        "outputId": "d032d762-78ad-46b8-b2f6-79fb4a6fda13"
      },
      "execution_count": 37,
      "outputs": [
        {
          "output_type": "execute_result",
          "data": {
            "text/plain": [
              "defaultdict(set, {})"
            ]
          },
          "metadata": {},
          "execution_count": 37
        }
      ]
    },
    {
      "cell_type": "code",
      "source": [
        "for l, v in T.items():\n",
        "  dT[v].add(l)"
      ],
      "metadata": {
        "id": "jeMZPoR8H09c"
      },
      "execution_count": 38,
      "outputs": []
    },
    {
      "cell_type": "code",
      "source": [
        "dT"
      ],
      "metadata": {
        "colab": {
          "base_uri": "https://localhost:8080/"
        },
        "id": "VSWmGLsJH3Ht",
        "outputId": "f1711e80-a254-4d1b-a8da-5e40fcb21c56"
      },
      "execution_count": 39,
      "outputs": [
        {
          "output_type": "execute_result",
          "data": {
            "text/plain": [
              "defaultdict(set,\n",
              "            {7: {(1, 6), (2, 5), (3, 4), (4, 3), (5, 2), (6, 1)},\n",
              "             4: {(1, 3), (2, 2), (3, 1)},\n",
              "             9: {(3, 6), (4, 5), (5, 4), (6, 3)},\n",
              "             10: {(4, 6), (5, 5), (6, 4)},\n",
              "             6: {(1, 5), (2, 4), (3, 3), (4, 2), (5, 1)},\n",
              "             8: {(2, 6), (3, 5), (4, 4), (5, 3), (6, 2)},\n",
              "             11: {(5, 6), (6, 5)},\n",
              "             3: {(1, 2), (2, 1)},\n",
              "             5: {(1, 4), (2, 3), (3, 2), (4, 1)},\n",
              "             2: {(1, 1)},\n",
              "             12: {(6, 6)}})"
            ]
          },
          "metadata": {},
          "execution_count": 39
        }
      ]
    },
    {
      "cell_type": "code",
      "source": [
        "leyT = {k : P(A,Omega) for k , A in dT.items() }\n",
        "leyT"
      ],
      "metadata": {
        "colab": {
          "base_uri": "https://localhost:8080/"
        },
        "id": "fTzcwnFXIClb",
        "outputId": "5305f2d5-408f-4437-9c12-3e059c45f346"
      },
      "execution_count": 40,
      "outputs": [
        {
          "output_type": "execute_result",
          "data": {
            "text/plain": [
              "{7: Fraction(1, 6),\n",
              " 4: Fraction(1, 12),\n",
              " 9: Fraction(1, 9),\n",
              " 10: Fraction(1, 12),\n",
              " 6: Fraction(5, 36),\n",
              " 8: Fraction(5, 36),\n",
              " 11: Fraction(1, 18),\n",
              " 3: Fraction(1, 18),\n",
              " 5: Fraction(1, 9),\n",
              " 2: Fraction(1, 36),\n",
              " 12: Fraction(1, 36)}"
            ]
          },
          "metadata": {},
          "execution_count": 40
        }
      ]
    },
    {
      "cell_type": "code",
      "source": [
        "leyT = pd.Series(leyT)\n",
        "leyT = leyT.sort_index()"
      ],
      "metadata": {
        "id": "ItaM7H7PIDVt"
      },
      "execution_count": 41,
      "outputs": []
    },
    {
      "cell_type": "code",
      "source": [
        "leyT"
      ],
      "metadata": {
        "colab": {
          "base_uri": "https://localhost:8080/"
        },
        "id": "VxhIYaCnIF4f",
        "outputId": "aa9581d3-66f5-469a-fb48-5c3e97b48b1e"
      },
      "execution_count": 42,
      "outputs": [
        {
          "output_type": "execute_result",
          "data": {
            "text/plain": [
              "2     1/36\n",
              "3     1/18\n",
              "4     1/12\n",
              "5      1/9\n",
              "6     5/36\n",
              "7      1/6\n",
              "8     5/36\n",
              "9      1/9\n",
              "10    1/12\n",
              "11    1/18\n",
              "12    1/36\n",
              "dtype: object"
            ]
          },
          "metadata": {},
          "execution_count": 42
        }
      ]
    },
    {
      "cell_type": "markdown",
      "source": [
        "Verficaremos que:\n",
        "$$\\sum_{k\\in R_{Y}}\\mathbb{P}(X=x)=1.$$"
      ],
      "metadata": {
        "id": "zfYwcujJIWQz"
      }
    },
    {
      "cell_type": "code",
      "source": [
        "leyT.sum()"
      ],
      "metadata": {
        "colab": {
          "base_uri": "https://localhost:8080/"
        },
        "id": "Vp-1LNmIIXi5",
        "outputId": "d03d0ffa-eb25-4785-dd65-93dc76764e66"
      },
      "execution_count": 43,
      "outputs": [
        {
          "output_type": "execute_result",
          "data": {
            "text/plain": [
              "Fraction(1, 1)"
            ]
          },
          "metadata": {},
          "execution_count": 43
        }
      ]
    },
    {
      "cell_type": "markdown",
      "source": [
        "Ahora obtendremos la suma de las caras que den como resultado un número par:"
      ],
      "metadata": {
        "id": "E_oIV5HYIb9E"
      }
    },
    {
      "cell_type": "code",
      "source": [
        "T1 = {(i,j): i + j for i,j in Omega if (i+j)% 2 == 0 }\n",
        "\n",
        "T1"
      ],
      "metadata": {
        "colab": {
          "base_uri": "https://localhost:8080/"
        },
        "id": "T8MM5RrLIlQp",
        "outputId": "b7449949-cdb5-4036-f50b-2e81c6937799"
      },
      "execution_count": 44,
      "outputs": [
        {
          "output_type": "execute_result",
          "data": {
            "text/plain": [
              "{(3, 1): 4,\n",
              " (4, 6): 10,\n",
              " (5, 1): 6,\n",
              " (2, 2): 4,\n",
              " (1, 3): 4,\n",
              " (6, 2): 8,\n",
              " (4, 2): 6,\n",
              " (3, 3): 6,\n",
              " (5, 3): 8,\n",
              " (2, 4): 6,\n",
              " (1, 5): 6,\n",
              " (6, 4): 10,\n",
              " (3, 5): 8,\n",
              " (4, 4): 8,\n",
              " (5, 5): 10,\n",
              " (1, 1): 2,\n",
              " (2, 6): 8,\n",
              " (6, 6): 12}"
            ]
          },
          "metadata": {},
          "execution_count": 44
        }
      ]
    },
    {
      "cell_type": "code",
      "source": [
        "dT1 = defaultdict(set)\n",
        "dT1"
      ],
      "metadata": {
        "colab": {
          "base_uri": "https://localhost:8080/"
        },
        "id": "l_Flfik7IoK0",
        "outputId": "f87d975a-c896-46b5-ce6c-b602e3b509cd"
      },
      "execution_count": 45,
      "outputs": [
        {
          "output_type": "execute_result",
          "data": {
            "text/plain": [
              "defaultdict(set, {})"
            ]
          },
          "metadata": {},
          "execution_count": 45
        }
      ]
    },
    {
      "cell_type": "code",
      "source": [
        "for l, v in T1.items():\n",
        "  dT1[v].add(l)"
      ],
      "metadata": {
        "id": "Brxany2KIrUA"
      },
      "execution_count": 46,
      "outputs": []
    },
    {
      "cell_type": "code",
      "source": [
        "dT1"
      ],
      "metadata": {
        "colab": {
          "base_uri": "https://localhost:8080/"
        },
        "id": "idfrtOVGIuMG",
        "outputId": "57f4776c-7ecf-44ce-f958-103f5cccfbb4"
      },
      "execution_count": 47,
      "outputs": [
        {
          "output_type": "execute_result",
          "data": {
            "text/plain": [
              "defaultdict(set,\n",
              "            {4: {(1, 3), (2, 2), (3, 1)},\n",
              "             10: {(4, 6), (5, 5), (6, 4)},\n",
              "             6: {(1, 5), (2, 4), (3, 3), (4, 2), (5, 1)},\n",
              "             8: {(2, 6), (3, 5), (4, 4), (5, 3), (6, 2)},\n",
              "             2: {(1, 1)},\n",
              "             12: {(6, 6)}})"
            ]
          },
          "metadata": {},
          "execution_count": 47
        }
      ]
    },
    {
      "cell_type": "code",
      "source": [
        "leyT1 = {k : P(A,Omega) for k , A in dT1.items() }\n",
        "leyT1"
      ],
      "metadata": {
        "colab": {
          "base_uri": "https://localhost:8080/"
        },
        "id": "vHzmMCKtIw1p",
        "outputId": "401d52b6-aa0b-4831-ae1e-a626f45b8f86"
      },
      "execution_count": 48,
      "outputs": [
        {
          "output_type": "execute_result",
          "data": {
            "text/plain": [
              "{4: Fraction(1, 12),\n",
              " 10: Fraction(1, 12),\n",
              " 6: Fraction(5, 36),\n",
              " 8: Fraction(5, 36),\n",
              " 2: Fraction(1, 36),\n",
              " 12: Fraction(1, 36)}"
            ]
          },
          "metadata": {},
          "execution_count": 48
        }
      ]
    },
    {
      "cell_type": "code",
      "source": [
        "leyT1 = pd.Series(leyT1)\n",
        "leyT1 = leyT1.sort_index()"
      ],
      "metadata": {
        "id": "n-1yZ9ATI1p4"
      },
      "execution_count": 49,
      "outputs": []
    },
    {
      "cell_type": "markdown",
      "source": [
        "Por lo tanto, los resultados donde la suma de las caras de los dados da un número par son:"
      ],
      "metadata": {
        "id": "5w7sL-seJWp9"
      }
    },
    {
      "cell_type": "code",
      "source": [
        "leyT1"
      ],
      "metadata": {
        "colab": {
          "base_uri": "https://localhost:8080/"
        },
        "id": "4MuqZH5rJjCs",
        "outputId": "66126870-2045-40f4-8982-eb8fd3fcb3d2"
      },
      "execution_count": 50,
      "outputs": [
        {
          "output_type": "execute_result",
          "data": {
            "text/plain": [
              "2     1/36\n",
              "4     1/12\n",
              "6     5/36\n",
              "8     5/36\n",
              "10    1/12\n",
              "12    1/36\n",
              "dtype: object"
            ]
          },
          "metadata": {},
          "execution_count": 50
        }
      ]
    },
    {
      "cell_type": "markdown",
      "source": [
        "Por lo tanto, la probabilidad de que T sea un número par es:\n",
        "\n",
        "$$P(T = número \\ par)$$"
      ],
      "metadata": {
        "id": "4sZM-iMKJpsw"
      }
    },
    {
      "cell_type": "code",
      "source": [
        "leyT1.sum()"
      ],
      "metadata": {
        "colab": {
          "base_uri": "https://localhost:8080/"
        },
        "id": "ehBnNEklKCOo",
        "outputId": "a606b20e-0632-461f-82f6-98d299482f6e"
      },
      "execution_count": 52,
      "outputs": [
        {
          "output_type": "execute_result",
          "data": {
            "text/plain": [
              "Fraction(1, 2)"
            ]
          },
          "metadata": {},
          "execution_count": 52
        }
      ]
    },
    {
      "cell_type": "markdown",
      "source": [],
      "metadata": {
        "id": "Zsc86nSoJWir"
      }
    }
  ]
}